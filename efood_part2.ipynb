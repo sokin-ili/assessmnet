{
 "cells": [
  {
   "cell_type": "code",
   "execution_count": 3,
   "id": "8d6af393",
   "metadata": {
    "ExecuteTime": {
     "end_time": "2023-02-14T11:18:18.415017Z",
     "start_time": "2023-02-14T11:18:18.407012Z"
    }
   },
   "outputs": [],
   "source": [
    "import pandas as pd\n",
    "from datetime import timedelta \n",
    "import matplotlib.pyplot as plt\n",
    "import seaborn as sns"
   ]
  },
  {
   "cell_type": "markdown",
   "id": "5175ee40",
   "metadata": {},
   "source": [
    "## Initial dataset with some manipulations"
   ]
  },
  {
   "cell_type": "code",
   "execution_count": 4,
   "id": "fd89393b",
   "metadata": {
    "ExecuteTime": {
     "end_time": "2023-02-14T11:18:19.065649Z",
     "start_time": "2023-02-14T11:18:18.415017Z"
    }
   },
   "outputs": [],
   "source": [
    "df = pd.read_csv(r'C:\\Users\\sokin\\Downloads\\Assessment exercise dataset - orders.csv')"
   ]
  },
  {
   "cell_type": "code",
   "execution_count": 5,
   "id": "e268640a",
   "metadata": {
    "ExecuteTime": {
     "end_time": "2023-02-14T11:19:20.182546Z",
     "start_time": "2023-02-14T11:18:19.065649Z"
    }
   },
   "outputs": [],
   "source": [
    "# manipulating date field\n",
    "df['date_1'] = pd.to_datetime(df['order_timestamp']).dt.strftime('%Y-%m-%d %H:%M:%S')\n",
    "df['date_2'] = pd.to_datetime(pd.to_datetime(df['date_1']).dt.strftime('%Y-%m-%d'))"
   ]
  },
  {
   "cell_type": "code",
   "execution_count": 6,
   "id": "15938e15",
   "metadata": {
    "ExecuteTime": {
     "end_time": "2023-02-14T11:19:20.198169Z",
     "start_time": "2023-02-14T11:19:20.182546Z"
    }
   },
   "outputs": [],
   "source": [
    "# df['date_transform'] = pd.to_datetime(df['order_timestamp']).dt.strftime('%Y-%m-%d %H:%M:%S')"
   ]
  },
  {
   "cell_type": "code",
   "execution_count": 7,
   "id": "55368221",
   "metadata": {
    "ExecuteTime": {
     "end_time": "2023-02-14T11:19:20.229222Z",
     "start_time": "2023-02-14T11:19:20.198169Z"
    }
   },
   "outputs": [
    {
     "data": {
      "text/html": [
       "<div><div id=1d3bedad-2ca7-4898-90cf-99dd101c3343 style=\"display:none; background-color:#9D6CFF; color:white; width:200px; height:30px; padding-left:5px; border-radius:4px; flex-direction:row; justify-content:space-around; align-items:center;\" onmouseover=\"this.style.backgroundColor='#BA9BF8'\" onmouseout=\"this.style.backgroundColor='#9D6CFF'\" onclick=\"window.commands?.execute('create-mitosheet-from-dataframe-output');\">See Full Dataframe in Mito</div> <script> if (window.commands?.hasCommand('create-mitosheet-from-dataframe-output')) document.getElementById('1d3bedad-2ca7-4898-90cf-99dd101c3343').style.display = 'flex' </script> <table border=\"1\" class=\"dataframe\">\n",
       "  <thead>\n",
       "    <tr style=\"text-align: right;\">\n",
       "      <th></th>\n",
       "      <th>order_id</th>\n",
       "      <th>user_id</th>\n",
       "      <th>order_timestamp</th>\n",
       "      <th>city</th>\n",
       "      <th>cuisine</th>\n",
       "      <th>paid_cash</th>\n",
       "      <th>amount</th>\n",
       "      <th>date_1</th>\n",
       "      <th>date_2</th>\n",
       "    </tr>\n",
       "  </thead>\n",
       "  <tbody>\n",
       "    <tr>\n",
       "      <th>0</th>\n",
       "      <td>7322173742136</td>\n",
       "      <td>94223136441</td>\n",
       "      <td>2022-01-18 15:41:28 UTC</td>\n",
       "      <td>Αίγιο</td>\n",
       "      <td>Breakfast</td>\n",
       "      <td>True</td>\n",
       "      <td>3.6</td>\n",
       "      <td>2022-01-18 15:41:28</td>\n",
       "      <td>2022-01-18</td>\n",
       "    </tr>\n",
       "    <tr>\n",
       "      <th>1</th>\n",
       "      <td>7210978616924</td>\n",
       "      <td>204794985423</td>\n",
       "      <td>2022-01-02 17:50:50 UTC</td>\n",
       "      <td>Αγρίνιο</td>\n",
       "      <td>Breakfast</td>\n",
       "      <td>True</td>\n",
       "      <td>1.9</td>\n",
       "      <td>2022-01-02 17:50:50</td>\n",
       "      <td>2022-01-02</td>\n",
       "    </tr>\n",
       "    <tr>\n",
       "      <th>2</th>\n",
       "      <td>7221232906132</td>\n",
       "      <td>12703920390</td>\n",
       "      <td>2022-01-04 08:37:12 UTC</td>\n",
       "      <td>Αγρίνιο</td>\n",
       "      <td>Breakfast</td>\n",
       "      <td>True</td>\n",
       "      <td>1.7</td>\n",
       "      <td>2022-01-04 08:37:12</td>\n",
       "      <td>2022-01-04</td>\n",
       "    </tr>\n",
       "    <tr>\n",
       "      <th>3</th>\n",
       "      <td>7399605199800</td>\n",
       "      <td>673310109528</td>\n",
       "      <td>2022-01-31 11:33:05 UTC</td>\n",
       "      <td>Λιβαδειά</td>\n",
       "      <td>Breakfast</td>\n",
       "      <td>True</td>\n",
       "      <td>3.0</td>\n",
       "      <td>2022-01-31 11:33:05</td>\n",
       "      <td>2022-01-31</td>\n",
       "    </tr>\n",
       "    <tr>\n",
       "      <th>4</th>\n",
       "      <td>7264221279744</td>\n",
       "      <td>673310109528</td>\n",
       "      <td>2022-01-10 11:18:28 UTC</td>\n",
       "      <td>Λιβαδειά</td>\n",
       "      <td>Breakfast</td>\n",
       "      <td>True</td>\n",
       "      <td>3.0</td>\n",
       "      <td>2022-01-10 11:18:28</td>\n",
       "      <td>2022-01-10</td>\n",
       "    </tr>\n",
       "    <tr>\n",
       "      <th>...</th>\n",
       "      <td>...</td>\n",
       "      <td>...</td>\n",
       "      <td>...</td>\n",
       "      <td>...</td>\n",
       "      <td>...</td>\n",
       "      <td>...</td>\n",
       "      <td>...</td>\n",
       "      <td>...</td>\n",
       "      <td>...</td>\n",
       "    </tr>\n",
       "    <tr>\n",
       "      <th>534265</th>\n",
       "      <td>7383295241752</td>\n",
       "      <td>314285338626</td>\n",
       "      <td>2022-01-28 22:25:04 UTC</td>\n",
       "      <td>Αλεξανδρούπολη</td>\n",
       "      <td>Street food</td>\n",
       "      <td>True</td>\n",
       "      <td>11.9</td>\n",
       "      <td>2022-01-28 22:25:04</td>\n",
       "      <td>2022-01-28</td>\n",
       "    </tr>\n",
       "    <tr>\n",
       "      <th>534266</th>\n",
       "      <td>7383425578320</td>\n",
       "      <td>586121418057</td>\n",
       "      <td>2022-01-28 22:39:29 UTC</td>\n",
       "      <td>Αλεξανδρούπολη</td>\n",
       "      <td>Street food</td>\n",
       "      <td>True</td>\n",
       "      <td>9.9</td>\n",
       "      <td>2022-01-28 22:39:29</td>\n",
       "      <td>2022-01-28</td>\n",
       "    </tr>\n",
       "    <tr>\n",
       "      <th>534267</th>\n",
       "      <td>7364485291992</td>\n",
       "      <td>29082002418</td>\n",
       "      <td>2022-01-24 19:29:34 UTC</td>\n",
       "      <td>Αλεξανδρούπολη</td>\n",
       "      <td>Street food</td>\n",
       "      <td>True</td>\n",
       "      <td>15.1</td>\n",
       "      <td>2022-01-24 19:29:34</td>\n",
       "      <td>2022-01-24</td>\n",
       "    </tr>\n",
       "    <tr>\n",
       "      <th>534268</th>\n",
       "      <td>7231345759480</td>\n",
       "      <td>348528607896</td>\n",
       "      <td>2022-01-05 18:28:41 UTC</td>\n",
       "      <td>Αλεξανδρούπολη</td>\n",
       "      <td>Street food</td>\n",
       "      <td>True</td>\n",
       "      <td>14.7</td>\n",
       "      <td>2022-01-05 18:28:41</td>\n",
       "      <td>2022-01-05</td>\n",
       "    </tr>\n",
       "    <tr>\n",
       "      <th>534269</th>\n",
       "      <td>7230409165680</td>\n",
       "      <td>117097050336</td>\n",
       "      <td>2022-01-05 15:45:52 UTC</td>\n",
       "      <td>Αλεξανδρούπολη</td>\n",
       "      <td>Street food</td>\n",
       "      <td>False</td>\n",
       "      <td>27.9</td>\n",
       "      <td>2022-01-05 15:45:52</td>\n",
       "      <td>2022-01-05</td>\n",
       "    </tr>\n",
       "  </tbody>\n",
       "</table></div>"
      ],
      "text/plain": [
       "             order_id       user_id          order_timestamp            city  \\\n",
       "0       7322173742136   94223136441  2022-01-18 15:41:28 UTC           Αίγιο   \n",
       "1       7210978616924  204794985423  2022-01-02 17:50:50 UTC         Αγρίνιο   \n",
       "2       7221232906132   12703920390  2022-01-04 08:37:12 UTC         Αγρίνιο   \n",
       "3       7399605199800  673310109528  2022-01-31 11:33:05 UTC        Λιβαδειά   \n",
       "4       7264221279744  673310109528  2022-01-10 11:18:28 UTC        Λιβαδειά   \n",
       "...               ...           ...                      ...             ...   \n",
       "534265  7383295241752  314285338626  2022-01-28 22:25:04 UTC  Αλεξανδρούπολη   \n",
       "534266  7383425578320  586121418057  2022-01-28 22:39:29 UTC  Αλεξανδρούπολη   \n",
       "534267  7364485291992   29082002418  2022-01-24 19:29:34 UTC  Αλεξανδρούπολη   \n",
       "534268  7231345759480  348528607896  2022-01-05 18:28:41 UTC  Αλεξανδρούπολη   \n",
       "534269  7230409165680  117097050336  2022-01-05 15:45:52 UTC  Αλεξανδρούπολη   \n",
       "\n",
       "            cuisine  paid_cash  amount               date_1     date_2  \n",
       "0         Breakfast       True     3.6  2022-01-18 15:41:28 2022-01-18  \n",
       "1         Breakfast       True     1.9  2022-01-02 17:50:50 2022-01-02  \n",
       "2         Breakfast       True     1.7  2022-01-04 08:37:12 2022-01-04  \n",
       "3         Breakfast       True     3.0  2022-01-31 11:33:05 2022-01-31  \n",
       "4         Breakfast       True     3.0  2022-01-10 11:18:28 2022-01-10  \n",
       "...             ...        ...     ...                  ...        ...  \n",
       "534265  Street food       True    11.9  2022-01-28 22:25:04 2022-01-28  \n",
       "534266  Street food       True     9.9  2022-01-28 22:39:29 2022-01-28  \n",
       "534267  Street food       True    15.1  2022-01-24 19:29:34 2022-01-24  \n",
       "534268  Street food       True    14.7  2022-01-05 18:28:41 2022-01-05  \n",
       "534269  Street food      False    27.9  2022-01-05 15:45:52 2022-01-05  \n",
       "\n",
       "[534270 rows x 9 columns]"
      ]
     },
     "execution_count": 7,
     "metadata": {},
     "output_type": "execute_result"
    }
   ],
   "source": [
    "df"
   ]
  },
  {
   "cell_type": "code",
   "execution_count": 8,
   "id": "d7060359",
   "metadata": {
    "ExecuteTime": {
     "end_time": "2023-02-14T11:19:20.338658Z",
     "start_time": "2023-02-14T11:19:20.229222Z"
    }
   },
   "outputs": [],
   "source": [
    "# dataset with total orders per customer\n",
    "df_orders=df.groupby('user_id', as_index=False)['order_id'].count()\n",
    "df_orders=df_orders.rename({'order_id':'orders'}, axis=1)"
   ]
  },
  {
   "cell_type": "markdown",
   "id": "c73e12b2",
   "metadata": {},
   "source": [
    "## Data Process"
   ]
  },
  {
   "cell_type": "code",
   "execution_count": 9,
   "id": "958178ff",
   "metadata": {
    "ExecuteTime": {
     "end_time": "2023-02-14T11:19:45.033276Z",
     "start_time": "2023-02-14T11:19:20.338658Z"
    }
   },
   "outputs": [],
   "source": [
    "data_process = df.groupby(['user_id']).agg({\n",
    "        'date_2': lambda x: (pd.to_datetime(pd.Timestamp(\"today\").strftime(\"%Y-%m-%d\"))- x.max()).days,\n",
    "        'order_id': 'count',\n",
    "        'amount': 'sum'})"
   ]
  },
  {
   "cell_type": "code",
   "execution_count": 10,
   "id": "a2c8bacc",
   "metadata": {
    "ExecuteTime": {
     "end_time": "2023-02-14T11:19:45.049935Z",
     "start_time": "2023-02-14T11:19:45.033909Z"
    }
   },
   "outputs": [
    {
     "data": {
      "text/html": [
       "<div><div id=bb4812c1-2912-41c0-bcd8-c655c3502a7c style=\"display:none; background-color:#9D6CFF; color:white; width:200px; height:30px; padding-left:5px; border-radius:4px; flex-direction:row; justify-content:space-around; align-items:center;\" onmouseover=\"this.style.backgroundColor='#BA9BF8'\" onmouseout=\"this.style.backgroundColor='#9D6CFF'\" onclick=\"window.commands?.execute('create-mitosheet-from-dataframe-output');\">See Full Dataframe in Mito</div> <script> if (window.commands?.hasCommand('create-mitosheet-from-dataframe-output')) document.getElementById('bb4812c1-2912-41c0-bcd8-c655c3502a7c').style.display = 'flex' </script> <table border=\"1\" class=\"dataframe\">\n",
       "  <thead>\n",
       "    <tr style=\"text-align: right;\">\n",
       "      <th></th>\n",
       "      <th>Recency</th>\n",
       "      <th>Frequency</th>\n",
       "      <th>MonetaryValue</th>\n",
       "    </tr>\n",
       "    <tr>\n",
       "      <th>user_id</th>\n",
       "      <th></th>\n",
       "      <th></th>\n",
       "      <th></th>\n",
       "    </tr>\n",
       "  </thead>\n",
       "  <tbody>\n",
       "    <tr>\n",
       "      <th>44118921</th>\n",
       "      <td>405</td>\n",
       "      <td>1</td>\n",
       "      <td>33.3</td>\n",
       "    </tr>\n",
       "    <tr>\n",
       "      <th>108938802</th>\n",
       "      <td>383</td>\n",
       "      <td>3</td>\n",
       "      <td>44.2</td>\n",
       "    </tr>\n",
       "    <tr>\n",
       "      <th>110361993</th>\n",
       "      <td>386</td>\n",
       "      <td>11</td>\n",
       "      <td>137.0</td>\n",
       "    </tr>\n",
       "    <tr>\n",
       "      <th>138437670</th>\n",
       "      <td>382</td>\n",
       "      <td>1</td>\n",
       "      <td>5.5</td>\n",
       "    </tr>\n",
       "    <tr>\n",
       "      <th>144777339</th>\n",
       "      <td>379</td>\n",
       "      <td>14</td>\n",
       "      <td>60.8</td>\n",
       "    </tr>\n",
       "  </tbody>\n",
       "</table></div>"
      ],
      "text/plain": [
       "           Recency  Frequency  MonetaryValue\n",
       "user_id                                     \n",
       "44118921       405          1           33.3\n",
       "108938802      383          3           44.2\n",
       "110361993      386         11          137.0\n",
       "138437670      382          1            5.5\n",
       "144777339      379         14           60.8"
      ]
     },
     "execution_count": 10,
     "metadata": {},
     "output_type": "execute_result"
    }
   ],
   "source": [
    "data_process.rename(columns={'date_2': 'Recency',\n",
    "                         'order_id': 'Frequency',\n",
    "                         'amount': 'MonetaryValue'}, inplace=True)\n",
    "\n",
    "data_process.head()"
   ]
  },
  {
   "cell_type": "markdown",
   "id": "47437968",
   "metadata": {},
   "source": [
    "We have now calculated our values. But those aggregations are absolut and hard to explain as is. It is better to normalize our scores replacing those values with relative once with respect to the distribution\n",
    "\n",
    "Pandas qcut splits numeric columns into quartiles.\n",
    "\n",
    "For Recency and Frequency columns, the higher values (top quartile) are assigned with indicator 4 and lowest to 1. Higher values imply that customers have spent more money to our products or bought more often and the 1-4 score is assigned accordingly\n",
    "\n",
    "The opposite logic is applied for recency as higher values mean that many days have passed since last purchase. Thus, customers with high values (top quartile) take score 1 and those with the smallest values 4"
   ]
  },
  {
   "cell_type": "markdown",
   "id": "430ee920",
   "metadata": {},
   "source": [
    "### Calculate R, F, M groups"
   ]
  },
  {
   "cell_type": "code",
   "execution_count": 14,
   "id": "547d1c70",
   "metadata": {
    "ExecuteTime": {
     "end_time": "2023-02-14T11:20:27.617181Z",
     "start_time": "2023-02-14T11:20:27.529648Z"
    }
   },
   "outputs": [
    {
     "name": "stderr",
     "output_type": "stream",
     "text": [
      "Note: NumExpr detected 12 cores but \"NUMEXPR_MAX_THREADS\" not set, so enforcing safe limit of 8.\n",
      "NumExpr defaulting to 8 threads.\n"
     ]
    },
    {
     "data": {
      "text/html": [
       "<div><div id=d07cdeea-591a-4ea1-b20e-4666e7fbac62 style=\"display:none; background-color:#9D6CFF; color:white; width:200px; height:30px; padding-left:5px; border-radius:4px; flex-direction:row; justify-content:space-around; align-items:center;\" onmouseover=\"this.style.backgroundColor='#BA9BF8'\" onmouseout=\"this.style.backgroundColor='#9D6CFF'\" onclick=\"window.commands?.execute('create-mitosheet-from-dataframe-output');\">See Full Dataframe in Mito</div> <script> if (window.commands?.hasCommand('create-mitosheet-from-dataframe-output')) document.getElementById('d07cdeea-591a-4ea1-b20e-4666e7fbac62').style.display = 'flex' </script> <table border=\"1\" class=\"dataframe\">\n",
       "  <thead>\n",
       "    <tr style=\"text-align: right;\">\n",
       "      <th></th>\n",
       "      <th>Recency</th>\n",
       "      <th>Frequency</th>\n",
       "      <th>MonetaryValue</th>\n",
       "      <th>R</th>\n",
       "      <th>F</th>\n",
       "      <th>M</th>\n",
       "    </tr>\n",
       "    <tr>\n",
       "      <th>user_id</th>\n",
       "      <th></th>\n",
       "      <th></th>\n",
       "      <th></th>\n",
       "      <th></th>\n",
       "      <th></th>\n",
       "      <th></th>\n",
       "    </tr>\n",
       "  </thead>\n",
       "  <tbody>\n",
       "    <tr>\n",
       "      <th>44118921</th>\n",
       "      <td>405</td>\n",
       "      <td>1</td>\n",
       "      <td>33.3</td>\n",
       "      <td>1</td>\n",
       "      <td>1</td>\n",
       "      <td>3</td>\n",
       "    </tr>\n",
       "    <tr>\n",
       "      <th>108938802</th>\n",
       "      <td>383</td>\n",
       "      <td>3</td>\n",
       "      <td>44.2</td>\n",
       "      <td>3</td>\n",
       "      <td>2</td>\n",
       "      <td>3</td>\n",
       "    </tr>\n",
       "    <tr>\n",
       "      <th>110361993</th>\n",
       "      <td>386</td>\n",
       "      <td>11</td>\n",
       "      <td>137.0</td>\n",
       "      <td>3</td>\n",
       "      <td>4</td>\n",
       "      <td>4</td>\n",
       "    </tr>\n",
       "    <tr>\n",
       "      <th>138437670</th>\n",
       "      <td>382</td>\n",
       "      <td>1</td>\n",
       "      <td>5.5</td>\n",
       "      <td>3</td>\n",
       "      <td>1</td>\n",
       "      <td>1</td>\n",
       "    </tr>\n",
       "    <tr>\n",
       "      <th>144777339</th>\n",
       "      <td>379</td>\n",
       "      <td>14</td>\n",
       "      <td>60.8</td>\n",
       "      <td>4</td>\n",
       "      <td>4</td>\n",
       "      <td>4</td>\n",
       "    </tr>\n",
       "  </tbody>\n",
       "</table></div>"
      ],
      "text/plain": [
       "           Recency  Frequency  MonetaryValue  R  F  M\n",
       "user_id                                              \n",
       "44118921       405          1           33.3  1  1  3\n",
       "108938802      383          3           44.2  3  2  3\n",
       "110361993      386         11          137.0  3  4  4\n",
       "138437670      382          1            5.5  3  1  1\n",
       "144777339      379         14           60.8  4  4  4"
      ]
     },
     "execution_count": 14,
     "metadata": {},
     "output_type": "execute_result"
    }
   ],
   "source": [
    "# Calculate R and F groups\n",
    "# Create labels for Recency and Frequency\n",
    "r_labels = range(4, 0, -1)\n",
    "f_labels = range(1, 5)\n",
    "m_labels = range(1, 5)\n",
    "# Assign these labels to 4 equal percentile groups \n",
    "r_groups = pd.qcut(data_process['Recency'], q=4, labels=r_labels)\n",
    "# Assign these labels to 4 equal percentile groups \n",
    "# f_groups = pd.qcut(data_process['Frequency'], q=4, labels=f_labels)\n",
    "f_groups= pd.cut(data_process['Frequency'].rank(pct=True), bins=4, labels=f_labels)\n",
    "# Assign these labels to three equal percentile groups \n",
    "m_groups = pd.qcut(data_process['MonetaryValue'], q=4, labels=m_labels)\n",
    "# Create new columns R,F and M \n",
    "data_process = data_process.assign(R = r_groups.values, F = f_groups.values,M = m_groups.values)\n",
    "data_process.head()"
   ]
  },
  {
   "cell_type": "code",
   "execution_count": 15,
   "id": "98b195a3",
   "metadata": {
    "ExecuteTime": {
     "end_time": "2023-02-14T11:20:27.640069Z",
     "start_time": "2023-02-14T11:20:27.617181Z"
    }
   },
   "outputs": [
    {
     "data": {
      "text/plain": [
       "user_id\n",
       "44118921      5\n",
       "108938802     8\n",
       "110361993    11\n",
       "138437670     5\n",
       "144777339    12\n",
       "Name: RFM_Score, dtype: int64"
      ]
     },
     "execution_count": 15,
     "metadata": {},
     "output_type": "execute_result"
    }
   ],
   "source": [
    "rfm = data_process.copy()\n",
    "rfm['RFM_Score'] = rfm[['R','F','M']].sum(axis=1)\n",
    "rfm['RFM_Score'].head()"
   ]
  },
  {
   "cell_type": "markdown",
   "id": "b7eabe04",
   "metadata": {},
   "source": [
    "### Normalizing the rank of the customers"
   ]
  },
  {
   "cell_type": "code",
   "execution_count": 17,
   "id": "d33935d5",
   "metadata": {
    "ExecuteTime": {
     "end_time": "2023-02-14T11:20:27.745338Z",
     "start_time": "2023-02-14T11:20:27.651835Z"
    }
   },
   "outputs": [],
   "source": [
    "rfm['R_rank'] = rfm['Recency'].rank(ascending=False)\n",
    "rfm['F_rank'] = rfm['Frequency'].rank(ascending=True)\n",
    "rfm['M_rank'] = rfm['MonetaryValue'].rank(ascending=True)\n",
    " \n",
    "# normalization\n",
    "rfm['R_rank_norm'] = round((rfm['R_rank']/rfm['R_rank'].max())*100,2)\n",
    "rfm['F_rank_norm'] = round((rfm['F_rank']/rfm['F_rank'].max())*100,2)\n",
    "rfm['M_rank_norm'] = round((rfm['F_rank']/rfm['M_rank'].max())*100,2)\n",
    " \n",
    "rfm.drop(columns=['R_rank', 'F_rank', 'M_rank'], inplace=True)"
   ]
  },
  {
   "cell_type": "code",
   "execution_count": 18,
   "id": "7ab4abdd",
   "metadata": {
    "ExecuteTime": {
     "end_time": "2023-02-14T11:20:27.773154Z",
     "start_time": "2023-02-14T11:20:27.745338Z"
    }
   },
   "outputs": [
    {
     "data": {
      "text/html": [
       "<div><div id=02dda7fb-e8d1-4919-b614-dd3ebf2a07b8 style=\"display:none; background-color:#9D6CFF; color:white; width:200px; height:30px; padding-left:5px; border-radius:4px; flex-direction:row; justify-content:space-around; align-items:center;\" onmouseover=\"this.style.backgroundColor='#BA9BF8'\" onmouseout=\"this.style.backgroundColor='#9D6CFF'\" onclick=\"window.commands?.execute('create-mitosheet-from-dataframe-output');\">See Full Dataframe in Mito</div> <script> if (window.commands?.hasCommand('create-mitosheet-from-dataframe-output')) document.getElementById('02dda7fb-e8d1-4919-b614-dd3ebf2a07b8').style.display = 'flex' </script> <table border=\"1\" class=\"dataframe\">\n",
       "  <thead>\n",
       "    <tr style=\"text-align: right;\">\n",
       "      <th></th>\n",
       "      <th>Recency</th>\n",
       "      <th>Frequency</th>\n",
       "      <th>MonetaryValue</th>\n",
       "      <th>R</th>\n",
       "      <th>F</th>\n",
       "      <th>M</th>\n",
       "      <th>RFM_Score</th>\n",
       "      <th>R_rank_norm</th>\n",
       "      <th>F_rank_norm</th>\n",
       "      <th>M_rank_norm</th>\n",
       "    </tr>\n",
       "    <tr>\n",
       "      <th>user_id</th>\n",
       "      <th></th>\n",
       "      <th></th>\n",
       "      <th></th>\n",
       "      <th></th>\n",
       "      <th></th>\n",
       "      <th></th>\n",
       "      <th></th>\n",
       "      <th></th>\n",
       "      <th></th>\n",
       "      <th></th>\n",
       "    </tr>\n",
       "  </thead>\n",
       "  <tbody>\n",
       "    <tr>\n",
       "      <th>44118921</th>\n",
       "      <td>405</td>\n",
       "      <td>1</td>\n",
       "      <td>33.3</td>\n",
       "      <td>1</td>\n",
       "      <td>1</td>\n",
       "      <td>3</td>\n",
       "      <td>5</td>\n",
       "      <td>8.14</td>\n",
       "      <td>16.74</td>\n",
       "      <td>16.74</td>\n",
       "    </tr>\n",
       "    <tr>\n",
       "      <th>108938802</th>\n",
       "      <td>383</td>\n",
       "      <td>3</td>\n",
       "      <td>44.2</td>\n",
       "      <td>3</td>\n",
       "      <td>2</td>\n",
       "      <td>3</td>\n",
       "      <td>8</td>\n",
       "      <td>64.44</td>\n",
       "      <td>56.73</td>\n",
       "      <td>56.73</td>\n",
       "    </tr>\n",
       "    <tr>\n",
       "      <th>110361993</th>\n",
       "      <td>386</td>\n",
       "      <td>11</td>\n",
       "      <td>137.0</td>\n",
       "      <td>3</td>\n",
       "      <td>4</td>\n",
       "      <td>4</td>\n",
       "      <td>11</td>\n",
       "      <td>52.68</td>\n",
       "      <td>91.32</td>\n",
       "      <td>91.32</td>\n",
       "    </tr>\n",
       "    <tr>\n",
       "      <th>138437670</th>\n",
       "      <td>382</td>\n",
       "      <td>1</td>\n",
       "      <td>5.5</td>\n",
       "      <td>3</td>\n",
       "      <td>1</td>\n",
       "      <td>1</td>\n",
       "      <td>5</td>\n",
       "      <td>70.33</td>\n",
       "      <td>16.74</td>\n",
       "      <td>16.74</td>\n",
       "    </tr>\n",
       "    <tr>\n",
       "      <th>144777339</th>\n",
       "      <td>379</td>\n",
       "      <td>14</td>\n",
       "      <td>60.8</td>\n",
       "      <td>4</td>\n",
       "      <td>4</td>\n",
       "      <td>4</td>\n",
       "      <td>12</td>\n",
       "      <td>100.00</td>\n",
       "      <td>94.52</td>\n",
       "      <td>94.52</td>\n",
       "    </tr>\n",
       "    <tr>\n",
       "      <th>...</th>\n",
       "      <td>...</td>\n",
       "      <td>...</td>\n",
       "      <td>...</td>\n",
       "      <td>...</td>\n",
       "      <td>...</td>\n",
       "      <td>...</td>\n",
       "      <td>...</td>\n",
       "      <td>...</td>\n",
       "      <td>...</td>\n",
       "      <td>...</td>\n",
       "    </tr>\n",
       "    <tr>\n",
       "      <th>685557444369</th>\n",
       "      <td>379</td>\n",
       "      <td>1</td>\n",
       "      <td>6.8</td>\n",
       "      <td>4</td>\n",
       "      <td>1</td>\n",
       "      <td>1</td>\n",
       "      <td>6</td>\n",
       "      <td>100.00</td>\n",
       "      <td>16.74</td>\n",
       "      <td>16.74</td>\n",
       "    </tr>\n",
       "    <tr>\n",
       "      <th>685561325799</th>\n",
       "      <td>379</td>\n",
       "      <td>1</td>\n",
       "      <td>8.7</td>\n",
       "      <td>4</td>\n",
       "      <td>1</td>\n",
       "      <td>1</td>\n",
       "      <td>6</td>\n",
       "      <td>100.00</td>\n",
       "      <td>16.74</td>\n",
       "      <td>16.74</td>\n",
       "    </tr>\n",
       "    <tr>\n",
       "      <th>685561843323</th>\n",
       "      <td>379</td>\n",
       "      <td>1</td>\n",
       "      <td>7.2</td>\n",
       "      <td>4</td>\n",
       "      <td>1</td>\n",
       "      <td>1</td>\n",
       "      <td>6</td>\n",
       "      <td>100.00</td>\n",
       "      <td>16.74</td>\n",
       "      <td>16.74</td>\n",
       "    </tr>\n",
       "    <tr>\n",
       "      <th>685566242277</th>\n",
       "      <td>379</td>\n",
       "      <td>1</td>\n",
       "      <td>11.5</td>\n",
       "      <td>4</td>\n",
       "      <td>1</td>\n",
       "      <td>1</td>\n",
       "      <td>6</td>\n",
       "      <td>100.00</td>\n",
       "      <td>16.74</td>\n",
       "      <td>16.74</td>\n",
       "    </tr>\n",
       "    <tr>\n",
       "      <th>685567924230</th>\n",
       "      <td>379</td>\n",
       "      <td>1</td>\n",
       "      <td>7.0</td>\n",
       "      <td>4</td>\n",
       "      <td>1</td>\n",
       "      <td>1</td>\n",
       "      <td>6</td>\n",
       "      <td>100.00</td>\n",
       "      <td>16.74</td>\n",
       "      <td>16.74</td>\n",
       "    </tr>\n",
       "  </tbody>\n",
       "</table></div>"
      ],
      "text/plain": [
       "              Recency  Frequency  MonetaryValue  R  F  M  RFM_Score  \\\n",
       "user_id                                                               \n",
       "44118921          405          1           33.3  1  1  3          5   \n",
       "108938802         383          3           44.2  3  2  3          8   \n",
       "110361993         386         11          137.0  3  4  4         11   \n",
       "138437670         382          1            5.5  3  1  1          5   \n",
       "144777339         379         14           60.8  4  4  4         12   \n",
       "...               ...        ...            ... .. .. ..        ...   \n",
       "685557444369      379          1            6.8  4  1  1          6   \n",
       "685561325799      379          1            8.7  4  1  1          6   \n",
       "685561843323      379          1            7.2  4  1  1          6   \n",
       "685566242277      379          1           11.5  4  1  1          6   \n",
       "685567924230      379          1            7.0  4  1  1          6   \n",
       "\n",
       "              R_rank_norm  F_rank_norm  M_rank_norm  \n",
       "user_id                                              \n",
       "44118921             8.14        16.74        16.74  \n",
       "108938802           64.44        56.73        56.73  \n",
       "110361993           52.68        91.32        91.32  \n",
       "138437670           70.33        16.74        16.74  \n",
       "144777339          100.00        94.52        94.52  \n",
       "...                   ...          ...          ...  \n",
       "685557444369       100.00        16.74        16.74  \n",
       "685561325799       100.00        16.74        16.74  \n",
       "685561843323       100.00        16.74        16.74  \n",
       "685566242277       100.00        16.74        16.74  \n",
       "685567924230       100.00        16.74        16.74  \n",
       "\n",
       "[121943 rows x 10 columns]"
      ]
     },
     "execution_count": 18,
     "metadata": {},
     "output_type": "execute_result"
    }
   ],
   "source": [
    "rfm"
   ]
  },
  {
   "cell_type": "code",
   "execution_count": null,
   "id": "2c7b113f",
   "metadata": {},
   "outputs": [],
   "source": []
  },
  {
   "cell_type": "markdown",
   "id": "d0ecb7a3",
   "metadata": {},
   "source": [
    "### RFM Level"
   ]
  },
  {
   "cell_type": "code",
   "execution_count": 19,
   "id": "5a89137d",
   "metadata": {
    "ExecuteTime": {
     "end_time": "2023-02-14T11:20:30.253588Z",
     "start_time": "2023-02-14T11:20:27.773154Z"
    }
   },
   "outputs": [
    {
     "data": {
      "text/html": [
       "<div><div id=8a43b59a-47d6-4c7e-8fcb-21faaef39b6b style=\"display:none; background-color:#9D6CFF; color:white; width:200px; height:30px; padding-left:5px; border-radius:4px; flex-direction:row; justify-content:space-around; align-items:center;\" onmouseover=\"this.style.backgroundColor='#BA9BF8'\" onmouseout=\"this.style.backgroundColor='#9D6CFF'\" onclick=\"window.commands?.execute('create-mitosheet-from-dataframe-output');\">See Full Dataframe in Mito</div> <script> if (window.commands?.hasCommand('create-mitosheet-from-dataframe-output')) document.getElementById('8a43b59a-47d6-4c7e-8fcb-21faaef39b6b').style.display = 'flex' </script> <table border=\"1\" class=\"dataframe\">\n",
       "  <thead>\n",
       "    <tr style=\"text-align: right;\">\n",
       "      <th></th>\n",
       "      <th>Recency</th>\n",
       "      <th>Frequency</th>\n",
       "      <th>MonetaryValue</th>\n",
       "      <th>R</th>\n",
       "      <th>F</th>\n",
       "      <th>M</th>\n",
       "      <th>RFM_Score</th>\n",
       "      <th>R_rank_norm</th>\n",
       "      <th>F_rank_norm</th>\n",
       "      <th>M_rank_norm</th>\n",
       "      <th>RFM_Level</th>\n",
       "    </tr>\n",
       "    <tr>\n",
       "      <th>user_id</th>\n",
       "      <th></th>\n",
       "      <th></th>\n",
       "      <th></th>\n",
       "      <th></th>\n",
       "      <th></th>\n",
       "      <th></th>\n",
       "      <th></th>\n",
       "      <th></th>\n",
       "      <th></th>\n",
       "      <th></th>\n",
       "      <th></th>\n",
       "    </tr>\n",
       "  </thead>\n",
       "  <tbody>\n",
       "    <tr>\n",
       "      <th>44118921</th>\n",
       "      <td>405</td>\n",
       "      <td>1</td>\n",
       "      <td>33.3</td>\n",
       "      <td>1</td>\n",
       "      <td>1</td>\n",
       "      <td>3</td>\n",
       "      <td>5</td>\n",
       "      <td>8.14</td>\n",
       "      <td>16.74</td>\n",
       "      <td>16.74</td>\n",
       "      <td>3.About to sleep</td>\n",
       "    </tr>\n",
       "    <tr>\n",
       "      <th>108938802</th>\n",
       "      <td>383</td>\n",
       "      <td>3</td>\n",
       "      <td>44.2</td>\n",
       "      <td>3</td>\n",
       "      <td>2</td>\n",
       "      <td>3</td>\n",
       "      <td>8</td>\n",
       "      <td>64.44</td>\n",
       "      <td>56.73</td>\n",
       "      <td>56.73</td>\n",
       "      <td>6.Promising</td>\n",
       "    </tr>\n",
       "    <tr>\n",
       "      <th>110361993</th>\n",
       "      <td>386</td>\n",
       "      <td>11</td>\n",
       "      <td>137.0</td>\n",
       "      <td>3</td>\n",
       "      <td>4</td>\n",
       "      <td>4</td>\n",
       "      <td>11</td>\n",
       "      <td>52.68</td>\n",
       "      <td>91.32</td>\n",
       "      <td>91.32</td>\n",
       "      <td>9.Loyal Customers</td>\n",
       "    </tr>\n",
       "    <tr>\n",
       "      <th>138437670</th>\n",
       "      <td>382</td>\n",
       "      <td>1</td>\n",
       "      <td>5.5</td>\n",
       "      <td>3</td>\n",
       "      <td>1</td>\n",
       "      <td>1</td>\n",
       "      <td>5</td>\n",
       "      <td>70.33</td>\n",
       "      <td>16.74</td>\n",
       "      <td>16.74</td>\n",
       "      <td>3.About to sleep</td>\n",
       "    </tr>\n",
       "    <tr>\n",
       "      <th>144777339</th>\n",
       "      <td>379</td>\n",
       "      <td>14</td>\n",
       "      <td>60.8</td>\n",
       "      <td>4</td>\n",
       "      <td>4</td>\n",
       "      <td>4</td>\n",
       "      <td>12</td>\n",
       "      <td>100.00</td>\n",
       "      <td>94.52</td>\n",
       "      <td>94.52</td>\n",
       "      <td>10.Champions</td>\n",
       "    </tr>\n",
       "  </tbody>\n",
       "</table></div>"
      ],
      "text/plain": [
       "           Recency  Frequency  MonetaryValue  R  F  M  RFM_Score  R_rank_norm  \\\n",
       "user_id                                                                         \n",
       "44118921       405          1           33.3  1  1  3          5         8.14   \n",
       "108938802      383          3           44.2  3  2  3          8        64.44   \n",
       "110361993      386         11          137.0  3  4  4         11        52.68   \n",
       "138437670      382          1            5.5  3  1  1          5        70.33   \n",
       "144777339      379         14           60.8  4  4  4         12       100.00   \n",
       "\n",
       "           F_rank_norm  M_rank_norm          RFM_Level  \n",
       "user_id                                                 \n",
       "44118921         16.74        16.74   3.About to sleep  \n",
       "108938802        56.73        56.73        6.Promising  \n",
       "110361993        91.32        91.32  9.Loyal Customers  \n",
       "138437670        16.74        16.74   3.About to sleep  \n",
       "144777339        94.52        94.52       10.Champions  "
      ]
     },
     "execution_count": 19,
     "metadata": {},
     "output_type": "execute_result"
    }
   ],
   "source": [
    "def rfm_scaling(df):\n",
    "    if df['RFM_Score']==12:\n",
    "        return '10.Champions'\n",
    "    elif df['RFM_Score'] ==11 :\n",
    "        return '9.Loyal Customers'\n",
    "    elif df['RFM_Score'] ==10 :\n",
    "        return '8.Potential Loyalists'\n",
    "    elif df['RFM_Score'] ==9 :\n",
    "        return '7.Hot'\n",
    "    elif df['RFM_Score'] ==8 :\n",
    "        return '6.Promising'\n",
    "    elif df['RFM_Score'] ==7 :\n",
    "        return '5.Need Attention'\n",
    "    elif df['RFM_Score'] ==6 :\n",
    "        return '4.Can\\'t lose them'\n",
    "    elif df['RFM_Score'] ==5 :\n",
    "        return '3.About to sleep'\n",
    "    elif df['RFM_Score'] ==4 :\n",
    "        return '2.Hibernating'\n",
    "    elif df['RFM_Score'] ==3 :\n",
    "        return '1.Lost'\n",
    "    else:\n",
    "        return 'Newbies'\n",
    "# Create a new variable RFM_Level\n",
    "rfm['RFM_Level'] = rfm.apply(rfm_scaling, axis=1)\n",
    "# Print the header with top 5 rows to the console\n",
    "rfm.head()"
   ]
  },
  {
   "cell_type": "code",
   "execution_count": 20,
   "id": "7115dad1",
   "metadata": {
    "ExecuteTime": {
     "end_time": "2023-02-14T11:20:30.399613Z",
     "start_time": "2023-02-14T11:20:30.253588Z"
    }
   },
   "outputs": [
    {
     "name": "stdout",
     "output_type": "stream",
     "text": [
      "From: 19.52 %  of our customers, we have: 50.11 % of our monetary revenues\n",
      "From: 19.52 %  of our customers, we have: 54.52 % of our total orders\n",
      "Pareto principle is not working here!\n",
      "Champions & Loyal Customers have mean frequency: 12.23 against the overall mean: 4.38\n",
      "Champions & Loyal Customers have mean monetary value: 95.83 against the overall mean: 37.34\n",
      "Champions & Loyal Customers have mean recency days: 380.0 against the overall mean: 389.0\n"
     ]
    }
   ],
   "source": [
    "# Some descriptive for higher RFMs\n",
    "print('From:',round(100*len(rfm[(rfm['RFM_Level']==\"10.Champions\") | (rfm['RFM_Level']==\"9.Loyal Customers\")])/len(rfm),2),\"%\",\" of our customers, we have:\",round(100*rfm[(rfm['RFM_Level']==\"10.Champions\") | (rfm['RFM_Level']==\"9.Loyal Customers\")]['MonetaryValue'].sum()/rfm['MonetaryValue'].sum(),2),\"% of our monetary revenues\")\n",
    "print('From:',round(100*len(rfm[(rfm['RFM_Level']==\"10.Champions\") | (rfm['RFM_Level']==\"9.Loyal Customers\")])/len(rfm),2),\"%\",\" of our customers, we have:\",round(100*rfm[(rfm['RFM_Level']==\"10.Champions\") | (rfm['RFM_Level']==\"9.Loyal Customers\")]['Frequency'].sum()/rfm['Frequency'].sum(),2),\"% of our total orders\")\n",
    "print('Pareto principle is not working here!')\n",
    "print('Champions & Loyal Customers have mean frequency:',round(rfm[(rfm['RFM_Level']==\"10.Champions\") | (rfm['RFM_Level']==\"9.Loyal Customers\")].Frequency.mean(),2), 'against the overall mean:',round(rfm.Frequency.mean(),2))\n",
    "print('Champions & Loyal Customers have mean monetary value:',round(rfm[(rfm['RFM_Level']==\"10.Champions\") | (rfm['RFM_Level']==\"9.Loyal Customers\")].MonetaryValue.mean(),2), 'against the overall mean:',round(rfm.MonetaryValue.mean(),2))\n",
    "print('Champions & Loyal Customers have mean recency days:',round(rfm[(rfm['RFM_Level']==\"10.Champions\") | (rfm['RFM_Level']==\"9.Loyal Customers\")].Recency.mean(),0), 'against the overall mean:',round(rfm.Recency.mean(),0))"
   ]
  },
  {
   "cell_type": "code",
   "execution_count": 21,
   "id": "01c642f4",
   "metadata": {
    "ExecuteTime": {
     "end_time": "2023-02-14T11:20:30.597599Z",
     "start_time": "2023-02-14T11:20:30.399613Z"
    }
   },
   "outputs": [
    {
     "data": {
      "image/png": "[encoded data removed]",
      "text/plain": [
       "<Figure size 432x288 with 1 Axes>"
      ]
     },
     "metadata": {},
     "output_type": "display_data"
    }
   ],
   "source": [
    "#a pie chart for the customers RFM distribution\n",
    "plt.pie(rfm.RFM_Level.value_counts(),\n",
    "        labels=rfm.RFM_Level.value_counts().index,\n",
    "        autopct='%.0f%%')\n",
    "plt.show()"
   ]
  },
  {
   "cell_type": "markdown",
   "id": "cd1183a3",
   "metadata": {},
   "source": [
    "## Export datasets for excel dashboard"
   ]
  },
  {
   "cell_type": "code",
   "execution_count": null,
   "id": "cbf3494f",
   "metadata": {
    "ExecuteTime": {
     "end_time": "2023-02-14T11:18:02.807844Z",
     "start_time": "2023-02-14T11:18:00.842Z"
    }
   },
   "outputs": [],
   "source": [
    "df_final = df.merge(rfm, how='inner', on='user_id')"
   ]
  },
  {
   "cell_type": "code",
   "execution_count": null,
   "id": "de08243f",
   "metadata": {
    "ExecuteTime": {
     "end_time": "2023-02-14T11:18:02.810806Z",
     "start_time": "2023-02-14T11:18:00.844Z"
    }
   },
   "outputs": [],
   "source": [
    "# df_final.to_excel(\"orders_rfm.xlsx\")"
   ]
  },
  {
   "cell_type": "code",
   "execution_count": null,
   "id": "2b675a88",
   "metadata": {
    "ExecuteTime": {
     "end_time": "2023-02-14T11:18:02.810806Z",
     "start_time": "2023-02-14T11:18:00.847Z"
    }
   },
   "outputs": [],
   "source": [
    "# rfm.to_excel(\"rfm.xlsx\")"
   ]
  },
  {
   "cell_type": "code",
   "execution_count": null,
   "id": "a687f139",
   "metadata": {
    "ExecuteTime": {
     "end_time": "2023-02-13T17:45:07.633391Z",
     "start_time": "2023-02-13T17:45:07.602144Z"
    }
   },
   "outputs": [],
   "source": []
  },
  {
   "cell_type": "code",
   "execution_count": null,
   "id": "a93d6062",
   "metadata": {},
   "outputs": [],
   "source": []
  }
 ],
 "metadata": {
  "kernelspec": {
   "display_name": "Python 3",
   "language": "python",
   "name": "python3"
  },
  "language_info": {
   "codemirror_mode": {
    "name": "ipython",
    "version": 3
   },
   "file_extension": ".py",
   "mimetype": "text/x-python",
   "name": "python",
   "nbconvert_exporter": "python",
   "pygments_lexer": "ipython3",
   "version": "3.8.8"
  },
  "toc": {
   "base_numbering": 1,
   "nav_menu": {},
   "number_sections": true,
   "sideBar": true,
   "skip_h1_title": false,
   "title_cell": "Table of Contents",
   "title_sidebar": "Contents",
   "toc_cell": false,
   "toc_position": {},
   "toc_section_display": true,
   "toc_window_display": false
  }
 },
 "nbformat": 4,
 "nbformat_minor": 5
}
